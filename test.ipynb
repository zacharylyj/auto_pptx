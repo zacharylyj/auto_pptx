{
 "cells": [
  {
   "cell_type": "code",
   "execution_count": 5,
   "metadata": {},
   "outputs": [],
   "source": [
    "import json\n",
    "\n",
    "def get_key():\n",
    "    with open(\"secretkey.json\", \"r\") as json_file:\n",
    "        return json.load(json_file)[\"api_key\"]"
   ]
  },
  {
   "cell_type": "code",
   "execution_count": 2,
   "metadata": {},
   "outputs": [
    {
     "name": "stdout",
     "output_type": "stream",
     "text": [
      "Presentation created successfully!\n"
     ]
    }
   ],
   "source": [
    "from pptx import Presentation\n",
    "\n",
    "# Create a presentation object\n",
    "prs = Presentation()\n",
    "\n",
    "# Add a slide with a title and subtitle layout\n",
    "slide_layout = prs.slide_layouts[0]\n",
    "slide = prs.slides.add_slide(slide_layout)\n",
    "\n",
    "# Add title and subtitle text\n",
    "title = slide.shapes.title\n",
    "subtitle = slide.placeholders[1]\n",
    "\n",
    "title.text = \"Hello, Pookie😘\"\n",
    "subtitle.text = \"This is a subtitle in your first slide\"\n",
    "\n",
    "# Save the presentation\n",
    "prs.save(\"my_presentation.pptx\")\n",
    "\n",
    "print(\"Presentation created successfully!\")"
   ]
  }
 ],
 "metadata": {
  "kernelspec": {
   "display_name": "main_env",
   "language": "python",
   "name": "python3"
  },
  "language_info": {
   "codemirror_mode": {
    "name": "ipython",
    "version": 3
   },
   "file_extension": ".py",
   "mimetype": "text/x-python",
   "name": "python",
   "nbconvert_exporter": "python",
   "pygments_lexer": "ipython3",
   "version": "3.12.4"
  }
 },
 "nbformat": 4,
 "nbformat_minor": 2
}
